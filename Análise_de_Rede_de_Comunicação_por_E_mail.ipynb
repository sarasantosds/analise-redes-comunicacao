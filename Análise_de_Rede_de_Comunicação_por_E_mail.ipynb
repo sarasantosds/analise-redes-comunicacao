{
  "cells": [
    {
      "cell_type": "markdown",
      "metadata": {
        "id": "view-in-github",
        "colab_type": "text"
      },
      "source": [
        "<a href=\"https://colab.research.google.com/github/sarasantosds/analise-redes-comunicacao/blob/main/An%C3%A1lise_de_Rede_de_Comunica%C3%A7%C3%A3o_por_E_mail.ipynb\" target=\"_parent\"><img src=\"https://colab.research.google.com/assets/colab-badge.svg\" alt=\"Open In Colab\"/></a>"
      ]
    },
    {
      "cell_type": "markdown",
      "metadata": {
        "id": "nnEV3ktdEzfT"
      },
      "source": [
        "### Análise de Rede de E-mail dos anos: 2003 à 2005\n",
        "\n",
        "\n",
        "Essa é uma rede direcionada não ponderada, por essa razão o número de e-mails enviados e recebidos será associdado ao grau de cada vértice, se houvesse peso nas arestas, poderíamos considerá-los como sendo a quantidade de e-mails enviados e recebidos.\n",
        "\n",
        "\n",
        "Você encontra o arquivo neste site: https://snap.stanford.edu/data/email-EuAll.html\n",
        "\n",
        "**Recomendo fazer o tratamento do arquivo txt presente no .gz para evitar análises equivocadas.**"
      ]
    },
    {
      "cell_type": "markdown",
      "source": [
        "# ATENÇÃO 🚩\n",
        "\n",
        "Essa rede fez parte de um estudo sobre padrões de crescimento em redes do mundo real. O autor do estudo sugere que a rede disponibilizada no repositório é uma nova rede gerada a partir da rede de e-mails da instituição de pesquisa européia.\n",
        "\n",
        "A geração da rede segue o padrão de crescimento da rede de e-mails da instituição de pesquisa européia, a anonimização mencionada pelo autor diz respeito as técnicas segurança e privacidade utilizadas ao ter acesso aos dados de e-mails da instituição de pesquisa européia, mas não seria o caso de esses e-mails anonimizados serem os mesmos presentes no conjunto de dados disponibilizados no repositório, em outras palavras seria como simular o padrão de crescimento da rede no mesmo período de tempo do conjunto de dados original, no caso durante 18 meses.\n",
        "\n",
        "Logo a análise presente neste notebook não relação com a rede real de e-mails da instituição de pesquisa européia, portanto a análise é feita sobre 265.214 e-mails (genéricos) e 420.045 envios/recebimentos no total.  Dito isto foi visualizado nas amostras coletadas a problematização:\n",
        "*Como propagar uma informação importante em redes esparsas ?*\n",
        "\n",
        "Lembrando que redes esparsas não são característica inerentes as redes direcionadas, mas pode ocorrer com maior frequência dada unidirecionalidade das relações."
      ],
      "metadata": {
        "id": "5SSMV3rRe7bn"
      }
    },
    {
      "cell_type": "code",
      "execution_count": null,
      "metadata": {
        "id": "hcyXVF9QEzfV"
      },
      "outputs": [],
      "source": [
        "import networkx as nx\n",
        "import pandas as pd\n",
        "import numpy as np\n",
        "import scipy\n",
        "import matplotlib.pyplot as plt\n",
        "import requests\n"
      ]
    },
    {
      "cell_type": "code",
      "source": [
        "df = pd.read_csv(\"Email-EuAll.txt\", header=None, sep='\\t')\n",
        "G = nx.DiGraph()\n",
        "for row in df.itertuples(index=False):\n",
        "  G.add_edge(int(row[0]), int(row[1]))\n",
        "print(G)"
      ],
      "metadata": {
        "colab": {
          "base_uri": "https://localhost:8080/"
        },
        "id": "9bHTN-jWKxL0",
        "outputId": "9f2cb366-7582-426f-f9aa-5d4d7d157b62"
      },
      "execution_count": null,
      "outputs": [
        {
          "output_type": "stream",
          "name": "stdout",
          "text": [
            "DiGraph with 265214 nodes and 420045 edges\n"
          ]
        }
      ]
    },
    {
      "cell_type": "markdown",
      "source": [
        "### Analisando a densidade da rede:\n",
        "\n",
        "Densidade muito próxima de zero, ou seja, uma densidade baixa que caracteriza uma rede esparsa com poucas conexões."
      ],
      "metadata": {
        "id": "Gd8uES89IleO"
      }
    },
    {
      "cell_type": "code",
      "source": [
        "print(round(nx.density(G),5) * 100,\"%\")"
      ],
      "metadata": {
        "colab": {
          "base_uri": "https://localhost:8080/"
        },
        "id": "lrbqt8pTUZS8",
        "outputId": "97eccc0c-b8bf-4554-b360-3f63b55721a1"
      },
      "execution_count": null,
      "outputs": [
        {
          "output_type": "stream",
          "name": "stdout",
          "text": [
            "0.001 %\n"
          ]
        }
      ]
    },
    {
      "cell_type": "markdown",
      "source": [
        "A baixa conexão é confirmada ao verificarmos se a rede é fortemente conectada e o resultado ser: False. Se a rede fosse fortemente conectada provavelmente haveria uma densidade alta e poderíamos ter caminhos em quaisquer pares de nós."
      ],
      "metadata": {
        "id": "Fr5UiBxOIylV"
      }
    },
    {
      "cell_type": "code",
      "source": [
        "nx.is_strongly_connected(G)"
      ],
      "metadata": {
        "colab": {
          "base_uri": "https://localhost:8080/"
        },
        "id": "nZNofLZrVhq_",
        "outputId": "888e7523-7823-45a9-b49b-e85df1685ade"
      },
      "execution_count": null,
      "outputs": [
        {
          "output_type": "execute_result",
          "data": {
            "text/plain": [
              "False"
            ]
          },
          "metadata": {},
          "execution_count": 4
        }
      ]
    },
    {
      "cell_type": "markdown",
      "source": [
        "### Analisando Centralidade de Grau:\n",
        "\n",
        "A centralidade de grau nos ajuda a visualizar o nó que detêm a maioria das conexões, esse dado é importante quando se quer por exemplo: vender um produto, fazer uma boa notícia chegar ao maior número de pessoas, expressar uma opinião nas redes sociais que alcance grande número de usuários, etc.\n",
        "\n",
        "Na teoria dos grafos o nó de maior centralidade de grau é conhecido como nó hub, em uma rede não temos apenas um nó hub, contudo temos em menos número do que os nós que não são hubs, ou seja, nós que possuem poucas conexões ou nenhuma conexão (nós isolados).\n",
        "\n",
        "Os nós hubs também nos ajuda a compreender a propagação de doenças e a buscar medidas de prevenção, por exemplo. No decorrer da análise dessa rede iremos  explorar centralidade de grau de modo geral tanto de entrada quanto de saída, já que estamos analisando uma rede direcionada, isso vai nos ajudar a pensar em como poderemos melhor a nossa comunicação.\n"
      ],
      "metadata": {
        "id": "FF6xPIULurdr"
      }
    },
    {
      "cell_type": "code",
      "source": [
        "# nx.degree_centrality(G)\n",
        "centralidade_grau = nx.degree_centrality(G)"
      ],
      "metadata": {
        "id": "kPknbW6eV2OZ",
        "collapsed": true
      },
      "execution_count": null,
      "outputs": []
    },
    {
      "cell_type": "code",
      "source": [
        "maior_centralidade = max(centralidade_grau, key = centralidade_grau.get)\n",
        "print(maior_centralidade)"
      ],
      "metadata": {
        "id": "NCvNQEWYsvFz",
        "colab": {
          "base_uri": "https://localhost:8080/"
        },
        "outputId": "c8792be5-0ea1-4afe-a5d7-25ff905301cc"
      },
      "execution_count": null,
      "outputs": [
        {
          "output_type": "stream",
          "name": "stdout",
          "text": [
            "179170\n"
          ]
        }
      ]
    },
    {
      "cell_type": "code",
      "source": [
        "maior_grau = G.degree(179170)\n",
        "print(f\"Este nó: {maior_centralidade} tem {maior_grau} conexões\")"
      ],
      "metadata": {
        "colab": {
          "base_uri": "https://localhost:8080/"
        },
        "id": "oCZp6OufLKNG",
        "outputId": "a3ebbae9-c70a-4958-d9f7-f9098cedd080"
      },
      "execution_count": null,
      "outputs": [
        {
          "output_type": "stream",
          "name": "stdout",
          "text": [
            "Este nó: 179170 tem 7636 conexões\n"
          ]
        }
      ]
    },
    {
      "cell_type": "markdown",
      "source": [
        "Apesar do nó: 179170 ter 7636 conexões, ainda é muito pouco, isso reforça mais uma vez a densidade baixa.\n",
        "\n",
        "\n",
        "Agora iremos verificar se este usuário envia muitos e-mails e/ou recebe muitos e-mails."
      ],
      "metadata": {
        "id": "yonoOfd5L2ZP"
      }
    },
    {
      "cell_type": "code",
      "source": [
        "# Verificamos que este node recebeu muitos e-mails\n",
        "grau_maior_entrada = G.in_degree(179170)\n",
        "print(f\"Este nó: {maior_centralidade} recebeu {grau_maior_entrada} e-mails\")"
      ],
      "metadata": {
        "colab": {
          "base_uri": "https://localhost:8080/"
        },
        "id": "hWRThTVst3PV",
        "outputId": "99db977f-90c7-42cd-b648-7a9584ac6a62"
      },
      "execution_count": null,
      "outputs": [
        {
          "output_type": "stream",
          "name": "stdout",
          "text": [
            "Este nó: 179170 recebeu 7631 e-mails\n"
          ]
        }
      ]
    },
    {
      "cell_type": "code",
      "source": [
        "# Verificamos que este node enviou poucos e-mails\n",
        "grau_maior_saida = G.out_degree(179170)\n",
        "print(f\"Este nó: {maior_centralidade} enviou {grau_maior_saida} e-mails\")"
      ],
      "metadata": {
        "colab": {
          "base_uri": "https://localhost:8080/"
        },
        "id": "h1YeeN18uRcW",
        "outputId": "b5e04ca4-c4a1-4d40-b7ef-f1115c17ad16"
      },
      "execution_count": null,
      "outputs": [
        {
          "output_type": "stream",
          "name": "stdout",
          "text": [
            "Este nó: 179170 enviou 5 e-mails\n"
          ]
        }
      ]
    },
    {
      "cell_type": "markdown",
      "source": [
        "### Análise de Agrupamento Local"
      ],
      "metadata": {
        "id": "W9o8D276NWaC"
      }
    },
    {
      "cell_type": "code",
      "source": [
        "agrupamento_local = nx.clustering(G, nodes=179170)\n",
        "print(f\"Este nó: {maior_centralidade} tem {agrupamento_local:.2f}% de chance formar grupo na rede\")"
      ],
      "metadata": {
        "colab": {
          "base_uri": "https://localhost:8080/"
        },
        "collapsed": true,
        "id": "NrK0Td3twHJt",
        "outputId": "260a6b96-6b1e-4f2a-c304-bbaed9382b57"
      },
      "execution_count": null,
      "outputs": [
        {
          "output_type": "stream",
          "name": "stdout",
          "text": [
            "Este nó: 179170 tem 0.00% de chance formar grupo na rede\n"
          ]
        }
      ]
    },
    {
      "cell_type": "markdown",
      "source": [
        "Vimos que apesar de ser um nó com alta centralidade de grau, este não formaria grupos, isso é respondido pelo fato de que os destinatários de seus e-mails não são os mesmos remetentes, ou seja, ele envia e-mail para pessoas diferentes daquelas que enviam e-mail para ele, se fossem similares poderia formar um grupo de e-mail por exemplo, além disso abaixa clusterização indica que há quase nenhuma possibilidade de pessoas que entram em contato com ele formar grupo com as pessoas as quais ele envia e-mail."
      ],
      "metadata": {
        "id": "O1KqUaS1OD2g"
      }
    },
    {
      "cell_type": "markdown",
      "source": [
        "### Análise de Agrupamento Global\n",
        "\n",
        "Existe uma chance bem pequena da rede formar grupos, ou seja, de usuários conectados a outros usuários se conectar a usuários em comum ou a estar presente em novos grupos de usuários.\n",
        "\n",
        "Esse baixo agrupamento local e global confere a rede não ser fortemente conectada."
      ],
      "metadata": {
        "id": "iduoXs8_O4lF"
      }
    },
    {
      "cell_type": "code",
      "source": [
        "agrupamento_global = nx.transitivity(G)\n",
        "print(f\"Está rede tem: {agrupamento_global:.2f}% chance de formar grupos na rede\")"
      ],
      "metadata": {
        "colab": {
          "base_uri": "https://localhost:8080/"
        },
        "id": "aJPMkXN3ybDa",
        "outputId": "562de37c-5058-4863-8361-a49cb7206b1f"
      },
      "execution_count": null,
      "outputs": [
        {
          "output_type": "stream",
          "name": "stdout",
          "text": [
            "Está rede tem: 0.03% chance de formar grupos na rede\n"
          ]
        }
      ]
    },
    {
      "cell_type": "code",
      "source": [
        "agrupamento_medio = nx.average_clustering(G)\n",
        "print(f\"Está rede em média {round(agrupamento_medio,2)} agrupamento\")"
      ],
      "metadata": {
        "colab": {
          "base_uri": "https://localhost:8080/"
        },
        "id": "0V8PA1580BHy",
        "outputId": "986cc38d-7722-499e-8623-5f7500663bbd"
      },
      "execution_count": null,
      "outputs": [
        {
          "output_type": "stream",
          "name": "stdout",
          "text": [
            "Está rede em média 0.06 agrupamento\n"
          ]
        }
      ]
    },
    {
      "cell_type": "markdown",
      "source": [
        "Ou seja, dificilmente a rede como um todo irá formar grupos com facilidade, isso quer dizer que usuários que falam com \"João\", dificilmente falaram entre si, eu disse que dificilmente, mas não impossível. Vamos analisar outras partes da rede como por exemplo: Componente Fortemente Conexa."
      ],
      "metadata": {
        "id": "_8GrlfxDfziS"
      }
    },
    {
      "cell_type": "markdown",
      "source": [
        "### Análise da Componente Fortemente Conexa\n",
        "\n",
        "Apesar da rede não ser fortemente conectada, não quer dizer que não haja componentes fortemente conexas."
      ],
      "metadata": {
        "id": "3UlHdq7SVXnt"
      }
    },
    {
      "cell_type": "code",
      "source": [
        "componente_conexa =nx.number_strongly_connected_components(G)\n",
        "print(f\"Está rede tem {componente_conexa} componentes fortemente conexas\")"
      ],
      "metadata": {
        "colab": {
          "base_uri": "https://localhost:8080/"
        },
        "id": "Q2czOmXACFV6",
        "outputId": "14edbf75-5bb2-4e96-b1e5-f59e5cbb0caf"
      },
      "execution_count": null,
      "outputs": [
        {
          "output_type": "stream",
          "name": "stdout",
          "text": [
            "Está rede tem 231000 componentes fortemente conexas\n"
          ]
        }
      ]
    },
    {
      "cell_type": "markdown",
      "source": [
        "Vamos analisar somente a maior componente conexa, para isso criamos um subgrafo contendo os nós da maior componente conexa e suas arestas."
      ],
      "metadata": {
        "id": "TZ8eL3YcWQEX"
      }
    },
    {
      "cell_type": "code",
      "source": [
        "maior_componente_conexa = nx.strongly_connected_components(G)\n",
        "nodes = max(maior_componente_conexa, key=len)\n",
        "H = G.subgraph(nodes)\n",
        "print(H)"
      ],
      "metadata": {
        "colab": {
          "base_uri": "https://localhost:8080/"
        },
        "collapsed": true,
        "id": "4nIbcyqwCnAb",
        "outputId": "b36964d8-44ee-4185-b15a-02d9f860ef2e"
      },
      "execution_count": null,
      "outputs": [
        {
          "output_type": "stream",
          "name": "stdout",
          "text": [
            "DiGraph with 34203 nodes and 151930 edges\n"
          ]
        }
      ]
    },
    {
      "cell_type": "markdown",
      "source": [
        "Abaixo vemos quantos nós do grafo o subgrafo contém, lembrando que esse subgrafo é feito a partir da maior componente conexa que tem: 34.203 nós e 151.930 arestas."
      ],
      "metadata": {
        "id": "xBVqND_LW-Ml"
      }
    },
    {
      "cell_type": "code",
      "source": [
        "percentual_nos = H.number_of_nodes() / G.number_of_nodes()\n",
        "print(f\"Este subgrafo tem {percentual_nos:.2f}% dos nós\")"
      ],
      "metadata": {
        "colab": {
          "base_uri": "https://localhost:8080/"
        },
        "id": "nfLzSRXjIjZN",
        "outputId": "2e84e571-e3a8-4bc4-d568-b4e52239dada"
      },
      "execution_count": null,
      "outputs": [
        {
          "output_type": "stream",
          "name": "stdout",
          "text": [
            "Este subgrafo tem 0.13% dos nós\n"
          ]
        }
      ]
    },
    {
      "cell_type": "code",
      "source": [
        "percentual_arestas = H.number_of_edges() / G.number_of_edges()\n",
        "print(f\"Este subgrafo tem {percentual_arestas:.2f}% das arestas\")"
      ],
      "metadata": {
        "colab": {
          "base_uri": "https://localhost:8080/"
        },
        "id": "FNFdDTlsI2Ai",
        "outputId": "3565aa2c-b425-4dd2-ec62-f5daa1765981"
      },
      "execution_count": null,
      "outputs": [
        {
          "output_type": "stream",
          "name": "stdout",
          "text": [
            "Este subgrafo tem 0.36% das arestas\n"
          ]
        }
      ]
    },
    {
      "cell_type": "markdown",
      "source": [
        "### Análise da Distribuição de Graus do Dígrafo G\n",
        "\n",
        "A distribuição de graus será calculada pelos graus de entrada e graus de saída posteriormente. Para a análise iremos usar uma lista de graus de entrada. Graus de entrada são as arestas que saem de um nó e entram em outro nó: A -> B, a análise é sobre o recebimento desta aresta, não sobre a saída desta aresta. Para realizar a descrição estatística da lista convertemos ela para Series que é um conjunto de dados com apenas 1 coluna e várias linhas. Ao convertemos para Series será dado índices, favor não confundir com nós, nesta lista estamos apenas usando o grau para cada nó na lista de grau de entrada."
      ],
      "metadata": {
        "id": "k7nxByBQXpNX"
      }
    },
    {
      "cell_type": "code",
      "source": [
        "in_degree_list = [degree for node, degree in G.in_degree]\n",
        "in_degree_list = pd.Series(in_degree_list)\n",
        "in_degree_list.describe()"
      ],
      "metadata": {
        "colab": {
          "base_uri": "https://localhost:8080/",
          "height": 335
        },
        "id": "GRfhMgJoI7oS",
        "outputId": "02f73f0c-1e66-489f-efa9-810f74b062c0"
      },
      "execution_count": null,
      "outputs": [
        {
          "output_type": "execute_result",
          "data": {
            "text/plain": [
              "count    265214.000000\n",
              "mean          1.583796\n",
              "std          36.527219\n",
              "min           0.000000\n",
              "25%           0.000000\n",
              "50%           0.000000\n",
              "75%           1.000000\n",
              "max        7631.000000\n",
              "dtype: float64"
            ],
            "text/html": [
              "<div>\n",
              "<style scoped>\n",
              "    .dataframe tbody tr th:only-of-type {\n",
              "        vertical-align: middle;\n",
              "    }\n",
              "\n",
              "    .dataframe tbody tr th {\n",
              "        vertical-align: top;\n",
              "    }\n",
              "\n",
              "    .dataframe thead th {\n",
              "        text-align: right;\n",
              "    }\n",
              "</style>\n",
              "<table border=\"1\" class=\"dataframe\">\n",
              "  <thead>\n",
              "    <tr style=\"text-align: right;\">\n",
              "      <th></th>\n",
              "      <th>0</th>\n",
              "    </tr>\n",
              "  </thead>\n",
              "  <tbody>\n",
              "    <tr>\n",
              "      <th>count</th>\n",
              "      <td>265214.000000</td>\n",
              "    </tr>\n",
              "    <tr>\n",
              "      <th>mean</th>\n",
              "      <td>1.583796</td>\n",
              "    </tr>\n",
              "    <tr>\n",
              "      <th>std</th>\n",
              "      <td>36.527219</td>\n",
              "    </tr>\n",
              "    <tr>\n",
              "      <th>min</th>\n",
              "      <td>0.000000</td>\n",
              "    </tr>\n",
              "    <tr>\n",
              "      <th>25%</th>\n",
              "      <td>0.000000</td>\n",
              "    </tr>\n",
              "    <tr>\n",
              "      <th>50%</th>\n",
              "      <td>0.000000</td>\n",
              "    </tr>\n",
              "    <tr>\n",
              "      <th>75%</th>\n",
              "      <td>1.000000</td>\n",
              "    </tr>\n",
              "    <tr>\n",
              "      <th>max</th>\n",
              "      <td>7631.000000</td>\n",
              "    </tr>\n",
              "  </tbody>\n",
              "</table>\n",
              "</div><br><label><b>dtype:</b> float64</label>"
            ]
          },
          "metadata": {},
          "execution_count": 17
        }
      ]
    },
    {
      "cell_type": "markdown",
      "source": [
        "Podemos conferir que o maior grau de entrada confere com o nó hub: 179170. Temos 75% da rede com pelo menos um grau de entrada, isso quer dizer que 75% recebeu ao menos 1 e-mail. Contudo vemos que existe nós que não receberam e-mails."
      ],
      "metadata": {
        "id": "r7TEg820Yml7"
      }
    },
    {
      "cell_type": "code",
      "source": [
        "in_degree_list.hist()\n",
        "plt.show()"
      ],
      "metadata": {
        "colab": {
          "base_uri": "https://localhost:8080/",
          "height": 430
        },
        "id": "8gHoMJ-QJStz",
        "outputId": "d1bced68-4676-47af-a97d-0d0fa15d2877"
      },
      "execution_count": null,
      "outputs": [
        {
          "output_type": "display_data",
          "data": {
            "text/plain": [
              "<Figure size 640x480 with 1 Axes>"
            ],
            "image/png": "[encoded data removed]"
          },
          "metadata": {}
        }
      ]
    },
    {
      "cell_type": "markdown",
      "source": [
        "Agora vamos analisar os graus de saída da rede como um todo. Vemos que entre 25% a 75% enviou ao menos 1 e-mail, contudo existe um nó que enviou 930 e-mails e como podemos ver também temos nó que não enviou nenhum e-mail."
      ],
      "metadata": {
        "id": "HYrD7lpwaXB_"
      }
    },
    {
      "cell_type": "code",
      "source": [
        "out_degree_list = [degree for node, degree in G.out_degree]\n",
        "out_degree_list = pd.Series(out_degree_list)\n",
        "out_degree_list.describe()"
      ],
      "metadata": {
        "colab": {
          "base_uri": "https://localhost:8080/",
          "height": 335
        },
        "id": "wyF7KcqRJYKC",
        "outputId": "a73e5b2c-933e-4e05-e92b-5cb0792c9d9c"
      },
      "execution_count": null,
      "outputs": [
        {
          "output_type": "execute_result",
          "data": {
            "text/plain": [
              "count    265214.000000\n",
              "mean          1.583796\n",
              "std           9.984003\n",
              "min           0.000000\n",
              "25%           1.000000\n",
              "50%           1.000000\n",
              "75%           1.000000\n",
              "max         930.000000\n",
              "dtype: float64"
            ],
            "text/html": [
              "<div>\n",
              "<style scoped>\n",
              "    .dataframe tbody tr th:only-of-type {\n",
              "        vertical-align: middle;\n",
              "    }\n",
              "\n",
              "    .dataframe tbody tr th {\n",
              "        vertical-align: top;\n",
              "    }\n",
              "\n",
              "    .dataframe thead th {\n",
              "        text-align: right;\n",
              "    }\n",
              "</style>\n",
              "<table border=\"1\" class=\"dataframe\">\n",
              "  <thead>\n",
              "    <tr style=\"text-align: right;\">\n",
              "      <th></th>\n",
              "      <th>0</th>\n",
              "    </tr>\n",
              "  </thead>\n",
              "  <tbody>\n",
              "    <tr>\n",
              "      <th>count</th>\n",
              "      <td>265214.000000</td>\n",
              "    </tr>\n",
              "    <tr>\n",
              "      <th>mean</th>\n",
              "      <td>1.583796</td>\n",
              "    </tr>\n",
              "    <tr>\n",
              "      <th>std</th>\n",
              "      <td>9.984003</td>\n",
              "    </tr>\n",
              "    <tr>\n",
              "      <th>min</th>\n",
              "      <td>0.000000</td>\n",
              "    </tr>\n",
              "    <tr>\n",
              "      <th>25%</th>\n",
              "      <td>1.000000</td>\n",
              "    </tr>\n",
              "    <tr>\n",
              "      <th>50%</th>\n",
              "      <td>1.000000</td>\n",
              "    </tr>\n",
              "    <tr>\n",
              "      <th>75%</th>\n",
              "      <td>1.000000</td>\n",
              "    </tr>\n",
              "    <tr>\n",
              "      <th>max</th>\n",
              "      <td>930.000000</td>\n",
              "    </tr>\n",
              "  </tbody>\n",
              "</table>\n",
              "</div><br><label><b>dtype:</b> float64</label>"
            ]
          },
          "metadata": {},
          "execution_count": 19
        }
      ]
    },
    {
      "cell_type": "code",
      "source": [
        "out_degree_list.hist()\n",
        "plt.show()"
      ],
      "metadata": {
        "colab": {
          "base_uri": "https://localhost:8080/",
          "height": 430
        },
        "id": "kHtRupesKjJP",
        "outputId": "ecfddfad-b9f5-466a-b4e3-0b3af35a8755"
      },
      "execution_count": null,
      "outputs": [
        {
          "output_type": "display_data",
          "data": {
            "text/plain": [
              "<Figure size 640x480 with 1 Axes>"
            ],
            "image/png": "[encoded data removed]"
          },
          "metadata": {}
        }
      ]
    },
    {
      "cell_type": "markdown",
      "source": [
        "Abaixo temos um gráfico em escala logarítmica que nos ajuda a visualizar se a rede segue uma distribuição de graus em lei de potência, em outras palavras veremos se a rede é desigual, caso a rede seja desigual veremos que uma parte mínima dos nós terá grau muito alto e uma grande parte dos nós terá grau muito baixo. A nossa rede gerou um gráfico que mostra em alguns momentos seguir a lei de potência (caracterizada por uma reta) e em outros momentos principalmente na parte final do gráfico se lido de cima para baixo, não temos o seguimento de uma lei de potência o que indica que nessa parte da rede esse número de nós tem a distribuição de graus de forma uniforme e não desigual."
      ],
      "metadata": {
        "id": "uCtiRrmJhAhL"
      }
    },
    {
      "cell_type": "code",
      "source": [
        "degree_list = [degree for node, degree in G.degree]\n",
        "degree_list = pd.Series(degree_list)\n",
        "y = degree_list.sort_values(ascending=False)\n",
        "x = range(len(y))\n",
        "plt.plot(x, y)\n",
        "plt.loglog()\n",
        "plt.xlabel('Nó')\n",
        "plt.ylabel('Grau do nó');"
      ],
      "metadata": {
        "colab": {
          "base_uri": "https://localhost:8080/",
          "height": 455
        },
        "id": "c_nbCnEebsBo",
        "outputId": "2bc5d5fa-db00-4e5a-8f1c-699b69be7eee"
      },
      "execution_count": null,
      "outputs": [
        {
          "output_type": "display_data",
          "data": {
            "text/plain": [
              "<Figure size 640x480 with 1 Axes>"
            ],
            "image/png": "[encoded data removed]"
          },
          "metadata": {}
        }
      ]
    },
    {
      "cell_type": "markdown",
      "source": [
        "### Análise de Distâncias"
      ],
      "metadata": {
        "id": "Dapj9V3TZ-Q8"
      }
    },
    {
      "cell_type": "markdown",
      "source": [
        "Abaixo estamos buscando o nó com maior grau de saída, isso será importante para entendermos como iremos propagar a informação. Como podemos ver o nó 83 que é o nó com maior grau de saída: envia e-mails para muitas pessoas, contudo recebe bastante e-mails, podemos conferir isso ao analisar o seu grau de entrada. Contudo as informações sobre os graus não nos é suficiente, precisamos buscar saber se o nó 83 envia e-mails para os remetentes que envia e-mails para ele."
      ],
      "metadata": {
        "id": "sI4SpE5eCE-p"
      }
    },
    {
      "cell_type": "code",
      "source": [
        "grau_saida = dict(G.out_degree)\n",
        "for chave, valor in grau_saida.items():\n",
        "  if valor == 930:\n",
        "    print(\"O nó {0} tem grau de saída: {1}\".format(chave,valor))\n",
        "\n",
        "grau_entrada = dict(G.in_degree)\n",
        "for chave, valor in grau_entrada.items():\n",
        "  if chave == 83:\n",
        "    print(\"O nó {0} tem grau de entrada: {1}\".format(chave,valor))"
      ],
      "metadata": {
        "colab": {
          "base_uri": "https://localhost:8080/"
        },
        "collapsed": true,
        "id": "RnTT6_JuKpgt",
        "outputId": "36f14e69-0946-4dda-d6f2-f703c83aa301"
      },
      "execution_count": null,
      "outputs": [
        {
          "output_type": "stream",
          "name": "stdout",
          "text": [
            "O nó 83 tem grau de saída: 930\n",
            "O nó 83 tem grau de entrada: 2696\n"
          ]
        }
      ]
    },
    {
      "cell_type": "markdown",
      "source": [
        "O diâmetro de um grafo é a excentricidade máxima: a maior distância entre quaisquer par de vértices. A excentricidade é a distância máxima entre quaisquer par de vértices.\n",
        "\n",
        "\n",
        "Vértices centrais tem excentricidade baixa, ou seja, dado um vértice x consigo em uma distância mínima chegar ao vértice que está no centro do grafo, por outro lado, dado um vértice x consigo em uma distância máxima chegar ao vértice que está na borda do grafo.\n",
        "\n",
        "Em nossa rede de e-mails não é possível calcular a maior distância por não ser uma rede fortemente conectada, ou seja, existem poucos caminhos entre quaisquer par de vértices, isso evidencia a rede ser esparsa.\n",
        "\n",
        "**Observação: a distância máxima, assim como a distância mínima é analisada a partir do menor caminho possível entre u e v, essa distância é chamada de distância GEODÉSICA**"
      ],
      "metadata": {
        "id": "-7I1GPnRCSFf"
      }
    },
    {
      "cell_type": "code",
      "source": [
        "try:\n",
        "  nx.algorithms.approximation.diameter(G)\n",
        "except Exception as err:\n",
        "  print(f\"Error: {err}\")"
      ],
      "metadata": {
        "colab": {
          "base_uri": "https://localhost:8080/"
        },
        "collapsed": true,
        "id": "6Of3hzQgpBre",
        "outputId": "4ad2e360-125d-40ef-e26a-c2f066466793"
      },
      "execution_count": null,
      "outputs": [
        {
          "output_type": "stream",
          "name": "stdout",
          "text": [
            "Error: DiGraph not strongly connected.\n"
          ]
        }
      ]
    },
    {
      "cell_type": "markdown",
      "source": [
        "Como podemos ver ao converter para não-direcionada temos ainda a não conectividade da rede isso ocorre porque em uma rede de e-mail a comunicação não é bidirecional em muitos dos casos."
      ],
      "metadata": {
        "id": "7fRa5N9mDk1V"
      }
    },
    {
      "cell_type": "code",
      "source": [
        "# convertendo rede direcionada para não-direcionada\n",
        "nao_direcionada = nx.to_undirected(G)\n",
        "\n",
        "try:\n",
        "  nx.algorithms.approximation.diameter(nao_direcionada)\n",
        "except Exception as err:\n",
        "  print(f\"Error: {err}\")"
      ],
      "metadata": {
        "colab": {
          "base_uri": "https://localhost:8080/"
        },
        "id": "ac2ooB3wpNEO",
        "outputId": "f408ef74-abc0-4ddc-ca5d-c8b8cb3dde6f"
      },
      "execution_count": null,
      "outputs": [
        {
          "output_type": "stream",
          "name": "stdout",
          "text": [
            "Error: Graph not connected.\n"
          ]
        }
      ]
    },
    {
      "cell_type": "markdown",
      "source": [
        "Também não é possível calcular a excentricidade pela mesma razão de não podermos calcular o diâmetro. Ainda que coloquemos um nó de partida ou um par de vértices ainda assim não poderá ser calculado, lembrando que estamos analisando a rede como um todo."
      ],
      "metadata": {
        "id": "zlXUCDS2LgMz"
      }
    },
    {
      "cell_type": "code",
      "source": [
        "# verificando a excentricidade da rede como um todo sem especificar quaisquer par de nó\n",
        "try:\n",
        "  nx.eccentricity(G)\n",
        "except Exception as err:\n",
        "  print(f\"Error: {err}\")"
      ],
      "metadata": {
        "colab": {
          "base_uri": "https://localhost:8080/"
        },
        "id": "AB4B9xT9px_D",
        "outputId": "076fc50a-ecdb-40e8-cb13-4e7f67fb8bcd"
      },
      "execution_count": null,
      "outputs": [
        {
          "output_type": "stream",
          "name": "stdout",
          "text": [
            "Error: Found infinite path length because the digraph is not strongly connected\n"
          ]
        }
      ]
    },
    {
      "cell_type": "code",
      "source": [
        "# Verificando a excentricidade entre um par de nó\n",
        "try:\n",
        "  distancia_max = nx.eccentricity(G,v=[83, 85])\n",
        "except Exception as err:\n",
        "  print(f\"Erro: {err}\")"
      ],
      "metadata": {
        "colab": {
          "base_uri": "https://localhost:8080/"
        },
        "id": "_g2HD-8CqQpY",
        "outputId": "26b16530-c376-40e6-8304-7b8e96f386cd"
      },
      "execution_count": null,
      "outputs": [
        {
          "output_type": "stream",
          "name": "stdout",
          "text": [
            "Erro: Found infinite path length because the digraph is not strongly connected\n"
          ]
        }
      ]
    },
    {
      "cell_type": "markdown",
      "source": [
        "Vamos ver o caminho mais curto entre o v: 83 e u: 85, lembrando que isso é somente uma amostra, a rede é muito extensa e seria manualmente inviável buscar o caminho mais curto testando vários pares de vértices. Escolhi o v: 83 por sabermos da sua capacidade de envio de e-mails, logo supondo que queremos enviar um e-mail para o u: 85, mas preciso da validação do v: 83 e posteriormente ele fica encarregado de enviar o e-mail para u: 85"
      ],
      "metadata": {
        "id": "-HhzwNcUUfuo"
      }
    },
    {
      "cell_type": "code",
      "source": [
        "caminho_mais_curto = nx.shortest_path(G, 83,85)\n",
        "print(f\"Após o usuário 83 validar o e-mail para que ele envie para o usuário 85\" ,\n",
        "f\"ele precisará fazer o envio para os demais {caminho_mais_curto}\")"
      ],
      "metadata": {
        "id": "dYGs4GLdqq2b",
        "colab": {
          "base_uri": "https://localhost:8080/"
        },
        "outputId": "5d019188-df84-4393-fd64-c50e9a1ed3df"
      },
      "execution_count": null,
      "outputs": [
        {
          "output_type": "stream",
          "name": "stdout",
          "text": [
            "Após o usuário 83 validar o e-mail para que ele envie para o usuário 85 ele precisará fazer o envio para os demais [83, 35, 120, 85]\n"
          ]
        }
      ]
    },
    {
      "cell_type": "markdown",
      "source": [
        "É claro que podemos pensar: não poderíamos encaminhar diretamente ? Sim, se a rede fosse fortemente conectada e houvesse um caminho direto de 83 -> 85, mas não é o que ocorre, pensando no contexto de mundo real: seria o caso de 83 não ter o contato de 85 e precisar contactar usuários que tem contato com pessoas que tem contato com o usuário 85."
      ],
      "metadata": {
        "id": "JcEvHLJnV_C7"
      }
    },
    {
      "cell_type": "markdown",
      "source": [
        "### Análise da Maior Componente Fortemente Conexa:\n",
        "\n",
        "- buscar a centralidade de grau\n",
        "- verificar os graus de entrada e de saída\n",
        "- agrupamento local e global\n",
        "- distribuição de graus\n",
        "- distâncias"
      ],
      "metadata": {
        "id": "_A6Jz-LxYvgg"
      }
    },
    {
      "cell_type": "markdown",
      "source": [
        "### Análise das centralidades do subgrafo H:\n",
        "\n",
        "- centralidade de grau\n",
        "- centralidade de intermediação\n"
      ],
      "metadata": {
        "id": "h6MQusmGQss1"
      }
    },
    {
      "cell_type": "markdown",
      "source": [
        "Na rede direcionada com um todo tivemos os nós 179170 e 83 como sendo nós com alta centralidade de graus, sendo que 179170 obteve uma maior centralidade de grau de entrada, enquanto que 83 obteve uma maior centralidade de grau de saída. Agora vamos analisar a centralidade de grau do subgrafo H que é formado pela maior componente conexa do dígrafo."
      ],
      "metadata": {
        "id": "99m1QYjNDYoV"
      }
    },
    {
      "cell_type": "code",
      "source": [
        "centralidade_grau_H = nx.degree_centrality(H)\n",
        "maior_centralidade_grau_H = max(centralidade_grau_H, key=centralidade_grau_H.get)\n",
        "print(f\"O nó com maior grau de centralidade é: {maior_centralidade_grau_H}\")\n",
        "\n",
        "print(f\"Grau de Entrada do Nó {maior_centralidade_grau_H} é: {H.in_degree(192)}\")\n",
        "print(f\"Grau de Saída do Nó {maior_centralidade_grau_H} é: {H.out_degree(192)}\")"
      ],
      "metadata": {
        "colab": {
          "base_uri": "https://localhost:8080/"
        },
        "id": "25b9_HyIXK__",
        "outputId": "790e3f5f-be91-4c9b-a1cd-7a6a87cf9d84"
      },
      "execution_count": null,
      "outputs": [
        {
          "output_type": "stream",
          "name": "stdout",
          "text": [
            "O nó com maior grau de centralidade é: 192\n",
            "Grau de Entrada do Nó 192 é: 788\n",
            "Grau de Saída do Nó 192 é: 716\n"
          ]
        }
      ]
    },
    {
      "cell_type": "markdown",
      "source": [
        "Diferente do Dígrafo G, o nosso subgrafo (ele ainda é dígrafo) H temos a centralidade de grau de entrada e de saída sendo maiores para o mesmo nó: 192, isso faz total sentido se lembrarmos que estamos lidando com uma componente gigante (a maior componente conexa) onde um único nó possui a maioria das conexões entre ambos os graus, além de podermos ir de um nó para outro, ou seja, possuímos caminhos entre quaisquer par de nós.\n",
        "\n",
        "**Mas qual seria a relevância de sabermos isso ?**\n",
        "\n",
        "Toda, afinal antes estávamos divididos entre 179170 e 83, pensando - Para qual usuário iremos enviar uma informação importante ? - sabemos que 179170 não seria a melhor opção, afinal ele envia poucos e-mails (5), logo pensamos no 83 que envia 930 e-mails, isso em nosso Dígrafo G.\n",
        "\n",
        "Depois analisamos a nossa componente gigante por uma questão de processamento - quando temos uma rede muito grande, trabalhar com a componente gigante é a melhor recomendação, afinal ela detêm a maioria das conexões- ao analisarmos vimos que 192 envia e recebe e-mails quase que na mesma medida, *será que ele nos ajudaria a enviar uma informação importante ?*\n",
        "\n",
        "Quando pensamos no envio de informações, não é sobre a maior quantidade isolada de conexões que um nó possui, mas sim compreender se as conexões que esse nó possui, comporta caminhos que levariam a informação para outros nós.\n",
        "\n",
        "Por exemplo: A -> B,mas se B não se conecta a mais ninguém em questão de envio, de que me adiantaria enviar para A ?, pensamos agora nesse cenário: A -> B -> C, agora me parece interessante enviar uma informação para A, afinal essa informação chegará a C e se C tiver mais conexões essa informações se propagará de forma mais rápida."
      ],
      "metadata": {
        "id": "BQGQBD3wD0jK"
      }
    },
    {
      "cell_type": "code",
      "source": [
        "centralidade_intermediacao_H = nx.betweenness_centrality(H, k=2, seed=42)\n",
        "for node, valor in centralidade_intermediacao_H.items():\n",
        "  if node == 192:\n",
        "    print(f\"Nó: {node} , Intermediação: {valor:.2f}%\")"
      ],
      "metadata": {
        "colab": {
          "base_uri": "https://localhost:8080/"
        },
        "id": "pbVEwECuY6-j",
        "outputId": "8973adf0-6940-4902-f31e-955aa5574228"
      },
      "execution_count": null,
      "outputs": [
        {
          "output_type": "stream",
          "name": "stdout",
          "text": [
            "Nó: 192 , Intermediação: 0.03%\n"
          ]
        }
      ]
    },
    {
      "cell_type": "markdown",
      "source": [
        "A intermediação do nó 192 em caminhos curtos para irmos de um nó x até  o nó y é muito pequena, não nula, mas muito pequena, o que pode interferir na escolha dele como sendo o propagador da informação, isso porque a intermediação não necessariamente tem a ver com a centralidade de grau, ou seja, posso ter um nó com grande parte das conexões, mas essas conexões não dependerem dele para chegar a um outro nó, além disso podemos ter nós conectados a ele que possuem apenas 1 aresta o que dificultaria fazer a informação se propagar pela rede. Vamos verificar a intermediação do nó 83 do Dígrafo G."
      ],
      "metadata": {
        "id": "2Twc4O0YLGqs"
      }
    },
    {
      "cell_type": "code",
      "source": [
        "centralidade_intermediacao_G = nx.betweenness_centrality(G, k=2, seed=42)\n",
        "for node, valor in centralidade_intermediacao_H.items():\n",
        "  if node == 83:\n",
        "    print(f\"Nó: {node} , Intermediação: {valor:.2f}%\")"
      ],
      "metadata": {
        "colab": {
          "base_uri": "https://localhost:8080/"
        },
        "id": "EY0gE24GNuhv",
        "outputId": "d808be2e-5bd8-487b-c6e7-0ac8fb8d5c4e"
      },
      "execution_count": null,
      "outputs": [
        {
          "output_type": "stream",
          "name": "stdout",
          "text": [
            "Nó: 83 , Intermediação: 0.01%\n"
          ]
        }
      ]
    },
    {
      "cell_type": "markdown",
      "source": [
        "A intermediação do nó 83 é ainda menor que a intermediação do nó 192. Nossa análise está cada vez mais complexa para encontrarmos um usuário bom para enviar uma informação importante para a rede. Vamos analisar outras métricas."
      ],
      "metadata": {
        "id": "D3ytgPt4OmJD"
      }
    },
    {
      "cell_type": "markdown",
      "source": [
        "### Análise da Assortatividade dos Dígrafos"
      ],
      "metadata": {
        "id": "XboZrtSEnCyR"
      }
    },
    {
      "cell_type": "code",
      "source": [
        "assortatividade = nx.degree_assortativity_coefficient(H,x=\"out\",y=\"in\")\n",
        "\n",
        "print(f\"A Componente formente conexa é um subgrafo: Heterogêneo, porque sua assortatividade é: {assortatividade:.2f}\")"
      ],
      "metadata": {
        "colab": {
          "base_uri": "https://localhost:8080/"
        },
        "id": "YPMO86Fvb1CQ",
        "outputId": "a4aae39d-d417-4046-90af-25b727e92b13"
      },
      "execution_count": null,
      "outputs": [
        {
          "output_type": "stream",
          "name": "stdout",
          "text": [
            "A Componente formente conexa é um subgrafo: Heterogêneo, porque sua assortatividade é: -0.34\n"
          ]
        }
      ]
    },
    {
      "cell_type": "code",
      "source": [
        "assortatividade = nx.degree_assortativity_coefficient(G,x=\"out\",y=\"in\")\n",
        "\n",
        "print(f\"O dígrafo G é: Heterogêneo, porque sua assortatividade é: {assortatividade:.2f}\")"
      ],
      "metadata": {
        "colab": {
          "base_uri": "https://localhost:8080/"
        },
        "id": "FEOdA03ePBwQ",
        "outputId": "61f5ef87-ac9c-409e-ae47-fa7c630cbd98"
      },
      "execution_count": null,
      "outputs": [
        {
          "output_type": "stream",
          "name": "stdout",
          "text": [
            "O dígrafo G é: Heterogêneo, porque sua assortatividade é: -0.21\n"
          ]
        }
      ]
    },
    {
      "cell_type": "markdown",
      "source": [
        "Ao falarmos sobre *Assortatividade* estamos falando sobre a correlação entre os nós. A correlação de nós é feita a partir da análise do número de graus, isso quer dizer que:\n",
        "\n",
        "- Graus altos que se conectam com Graus altos classifica a rede como: assortativa;\n",
        "- Graus altos que se conectam com Graus altos (vice-versa) classifica a rede como: dissassortativa.\n",
        "\n",
        "Em medida temos:\n",
        "\n",
        "- Asssortatividade positiva: Rede Homogênea\n",
        "- Assortatiividade negativa: Rede Heterogênea\n",
        "- Assortatividade nula: Rede não homogênea e nem heterogênea.\n",
        "\n",
        "\n",
        "No caso da nossa rede ela é: Heterogênea, ou seja, os graus altos tem tendência de se conectar com graus baixos, ou seja, nós que possuem poucas conexões.\n",
        "\n",
        "\n",
        "Opa, veja, se a nossa rede é heterogênea, isso quer dizer que as conexões altas são feitas em sua maioria de conexões baixas, ou seja, a informação não tem um grande alcance em nossa rede."
      ],
      "metadata": {
        "id": "XWXL6AwyQz57"
      }
    },
    {
      "cell_type": "markdown",
      "source": [
        "### Análise do agrupamento do subgrafo H\n",
        "\n",
        "Vamos analisar as métricas de agrupamento:\n",
        "\n",
        "- Agrupamento local nos diz que o nó 192 tem chances mínimas de formar grupos, ou seja, de seus nós se conectarem entre eles. Por exemplo envio informação para de A para B e C, mas se precisar que B ou C envie informação entre eles não será possível.\n",
        "\n",
        "- Agrupamento global nos diz que a rede tem chances mínimas de formar grupos. O que nos ajuda a visualizar que os usuários da instituição de pesquisa não se conhecem tanto, apenas \"conhecem\" os  usuários os quais trocam e-mails ou enviam/recebem e-mails. O que podemos deduzir de forma hipotética que a rede de e-mails analisada pude ser entre os usuários da instiuição e funcionários da instituição, mas não entre usuários e usuários ou que esses usuários pode estar segmentados.\n",
        "\n",
        "- Agrupamento médio nos diz que em média 0.2% dos nós forma grupos na rede, e quando falamos grupos, estamos nos referindo a triângulos, ou seja, trios fechados."
      ],
      "metadata": {
        "id": "01Jc4U6WQ3Ma"
      }
    },
    {
      "cell_type": "code",
      "source": [
        "agrupamento_local_H = nx.clustering(H,192)\n",
        "print(f\"As chances do Nó {maior_centralidade_grau_H} formar grupos é: {agrupamento_local_H:.2f}%\")"
      ],
      "metadata": {
        "colab": {
          "base_uri": "https://localhost:8080/"
        },
        "id": "IiiFxYB7ZS63",
        "outputId": "5507db9a-9089-4054-aa40-b38e5bb2761c"
      },
      "execution_count": null,
      "outputs": [
        {
          "output_type": "stream",
          "name": "stdout",
          "text": [
            "As chances do Nó 192 formar grupos é: 0.01%\n"
          ]
        }
      ]
    },
    {
      "cell_type": "code",
      "source": [
        "agrupamento_global_H = nx.transitivity(H)\n",
        "print(f\"As chances do subgrafo H formar grupos é: {agrupamento_global_H:.2f}%\")"
      ],
      "metadata": {
        "colab": {
          "base_uri": "https://localhost:8080/"
        },
        "id": "NYuDMUQlawlq",
        "outputId": "3aab798e-1c23-4ef0-a94e-ab00a518fa41"
      },
      "execution_count": null,
      "outputs": [
        {
          "output_type": "stream",
          "name": "stdout",
          "text": [
            "As chances do subgrafo H formar grupos é: 0.04%\n"
          ]
        }
      ]
    },
    {
      "cell_type": "code",
      "source": [
        "agrupamento_medio_H = nx.average_clustering(H)\n",
        "print(f\"Este subgrafo tem em média: {agrupamento_medio_H:.2f}%\")"
      ],
      "metadata": {
        "colab": {
          "base_uri": "https://localhost:8080/"
        },
        "id": "J09kcj1sO0A9",
        "outputId": "db53781f-31ae-4933-efea-4a75bb24c0c6"
      },
      "execution_count": null,
      "outputs": [
        {
          "output_type": "stream",
          "name": "stdout",
          "text": [
            "Este subgrafo tem em média: 0.23%\n"
          ]
        }
      ]
    },
    {
      "cell_type": "markdown",
      "source": [
        "### Análise da Distribuição de Graus do subgrafo H\n",
        "\n"
      ],
      "metadata": {
        "id": "3b5l-98jQ83g"
      }
    },
    {
      "cell_type": "code",
      "source": [
        "in_degree_list_H = [degree for node, degree in H.in_degree]\n",
        "in_degree_list_H = pd.Series(in_degree_list_H)\n",
        "in_degree_list_H.describe()"
      ],
      "metadata": {
        "colab": {
          "base_uri": "https://localhost:8080/",
          "height": 335
        },
        "id": "GRHYbOupbqLn",
        "outputId": "91ccc1fd-43e4-40d2-96aa-c0a3f1d54560"
      },
      "execution_count": null,
      "outputs": [
        {
          "output_type": "execute_result",
          "data": {
            "text/plain": [
              "count    34203.000000\n",
              "mean         4.442008\n",
              "std         24.443427\n",
              "min          1.000000\n",
              "25%          1.000000\n",
              "50%          1.000000\n",
              "75%          2.000000\n",
              "max        788.000000\n",
              "dtype: float64"
            ],
            "text/html": [
              "<div>\n",
              "<style scoped>\n",
              "    .dataframe tbody tr th:only-of-type {\n",
              "        vertical-align: middle;\n",
              "    }\n",
              "\n",
              "    .dataframe tbody tr th {\n",
              "        vertical-align: top;\n",
              "    }\n",
              "\n",
              "    .dataframe thead th {\n",
              "        text-align: right;\n",
              "    }\n",
              "</style>\n",
              "<table border=\"1\" class=\"dataframe\">\n",
              "  <thead>\n",
              "    <tr style=\"text-align: right;\">\n",
              "      <th></th>\n",
              "      <th>0</th>\n",
              "    </tr>\n",
              "  </thead>\n",
              "  <tbody>\n",
              "    <tr>\n",
              "      <th>count</th>\n",
              "      <td>34203.000000</td>\n",
              "    </tr>\n",
              "    <tr>\n",
              "      <th>mean</th>\n",
              "      <td>4.442008</td>\n",
              "    </tr>\n",
              "    <tr>\n",
              "      <th>std</th>\n",
              "      <td>24.443427</td>\n",
              "    </tr>\n",
              "    <tr>\n",
              "      <th>min</th>\n",
              "      <td>1.000000</td>\n",
              "    </tr>\n",
              "    <tr>\n",
              "      <th>25%</th>\n",
              "      <td>1.000000</td>\n",
              "    </tr>\n",
              "    <tr>\n",
              "      <th>50%</th>\n",
              "      <td>1.000000</td>\n",
              "    </tr>\n",
              "    <tr>\n",
              "      <th>75%</th>\n",
              "      <td>2.000000</td>\n",
              "    </tr>\n",
              "    <tr>\n",
              "      <th>max</th>\n",
              "      <td>788.000000</td>\n",
              "    </tr>\n",
              "  </tbody>\n",
              "</table>\n",
              "</div><br><label><b>dtype:</b> float64</label>"
            ]
          },
          "metadata": {},
          "execution_count": 34
        }
      ]
    },
    {
      "cell_type": "code",
      "source": [
        "out_degree_list_H = [degree for node, degree in H.out_degree]\n",
        "out_degree_list_H = pd.Series(out_degree_list_H)\n",
        "out_degree_list_H.describe()"
      ],
      "metadata": {
        "colab": {
          "base_uri": "https://localhost:8080/",
          "height": 335
        },
        "id": "FIMLuarydf7I",
        "outputId": "78f8cc1f-7104-48f9-a22d-9b086d5037c8"
      },
      "execution_count": null,
      "outputs": [
        {
          "output_type": "execute_result",
          "data": {
            "text/plain": [
              "count    34203.000000\n",
              "mean         4.442008\n",
              "std         21.477202\n",
              "min          1.000000\n",
              "25%          1.000000\n",
              "50%          1.000000\n",
              "75%          2.000000\n",
              "max        716.000000\n",
              "dtype: float64"
            ],
            "text/html": [
              "<div>\n",
              "<style scoped>\n",
              "    .dataframe tbody tr th:only-of-type {\n",
              "        vertical-align: middle;\n",
              "    }\n",
              "\n",
              "    .dataframe tbody tr th {\n",
              "        vertical-align: top;\n",
              "    }\n",
              "\n",
              "    .dataframe thead th {\n",
              "        text-align: right;\n",
              "    }\n",
              "</style>\n",
              "<table border=\"1\" class=\"dataframe\">\n",
              "  <thead>\n",
              "    <tr style=\"text-align: right;\">\n",
              "      <th></th>\n",
              "      <th>0</th>\n",
              "    </tr>\n",
              "  </thead>\n",
              "  <tbody>\n",
              "    <tr>\n",
              "      <th>count</th>\n",
              "      <td>34203.000000</td>\n",
              "    </tr>\n",
              "    <tr>\n",
              "      <th>mean</th>\n",
              "      <td>4.442008</td>\n",
              "    </tr>\n",
              "    <tr>\n",
              "      <th>std</th>\n",
              "      <td>21.477202</td>\n",
              "    </tr>\n",
              "    <tr>\n",
              "      <th>min</th>\n",
              "      <td>1.000000</td>\n",
              "    </tr>\n",
              "    <tr>\n",
              "      <th>25%</th>\n",
              "      <td>1.000000</td>\n",
              "    </tr>\n",
              "    <tr>\n",
              "      <th>50%</th>\n",
              "      <td>1.000000</td>\n",
              "    </tr>\n",
              "    <tr>\n",
              "      <th>75%</th>\n",
              "      <td>2.000000</td>\n",
              "    </tr>\n",
              "    <tr>\n",
              "      <th>max</th>\n",
              "      <td>716.000000</td>\n",
              "    </tr>\n",
              "  </tbody>\n",
              "</table>\n",
              "</div><br><label><b>dtype:</b> float64</label>"
            ]
          },
          "metadata": {},
          "execution_count": 35
        }
      ]
    },
    {
      "cell_type": "code",
      "source": [
        "in_degree_list_H.hist()\n",
        "plt.show()"
      ],
      "metadata": {
        "colab": {
          "base_uri": "https://localhost:8080/",
          "height": 430
        },
        "id": "-i1lMmKCdoRJ",
        "outputId": "455e9693-7a90-4736-cca9-1e3e9423a5fd"
      },
      "execution_count": null,
      "outputs": [
        {
          "output_type": "display_data",
          "data": {
            "text/plain": [
              "<Figure size 640x480 with 1 Axes>"
            ],
            "image/png": "[encoded data removed]"
          },
          "metadata": {}
        }
      ]
    },
    {
      "cell_type": "code",
      "source": [
        "out_degree_list_H.hist()\n",
        "plt.show()"
      ],
      "metadata": {
        "colab": {
          "base_uri": "https://localhost:8080/",
          "height": 430
        },
        "id": "PnNlSlEddtBb",
        "outputId": "3f338c63-bb5a-4567-9554-80572bbb0c17"
      },
      "execution_count": null,
      "outputs": [
        {
          "output_type": "display_data",
          "data": {
            "text/plain": [
              "<Figure size 640x480 with 1 Axes>"
            ],
            "image/png": "[encoded data removed]"
          },
          "metadata": {}
        }
      ]
    },
    {
      "cell_type": "code",
      "source": [
        "degree_list = [degree for node, degree in H.degree]\n",
        "degree_list = pd.Series(degree_list)\n",
        "y = degree_list.sort_values(ascending=False)\n",
        "x = range(len(y))\n",
        "plt.plot(x, y)\n",
        "plt.loglog()\n",
        "plt.xlabel('Nó')\n",
        "plt.ylabel('Grau do nó');"
      ],
      "metadata": {
        "colab": {
          "base_uri": "https://localhost:8080/",
          "height": 454
        },
        "id": "DFHShlJsd-vp",
        "outputId": "d0394411-bae3-4fc9-b86e-b10e33f699a5"
      },
      "execution_count": null,
      "outputs": [
        {
          "output_type": "display_data",
          "data": {
            "text/plain": [
              "<Figure size 640x480 with 1 Axes>"
            ],
            "image/png": "[encoded data removed]"
          },
          "metadata": {}
        }
      ]
    },
    {
      "cell_type": "markdown",
      "source": [
        "A análise da distribuição de graus do subgrafo nos diz que não há um seguimento de lei de potência constante, ou seja, apenas em uma parte dos nós existe uma constância no número de graus. Outra observação é que neste subgrafo uma boa parte dos nós: 75% possuem 2 conexões, sendo que a maior conexão está justamento no nó 192."
      ],
      "metadata": {
        "id": "2nEhZI7qXCRC"
      }
    },
    {
      "cell_type": "markdown",
      "source": [
        "### Análise das distâncias da componente formetemente conexa"
      ],
      "metadata": {
        "id": "aI8e6K0Dmxst"
      }
    },
    {
      "cell_type": "code",
      "source": [
        "try:\n",
        "  diametro_H = nx.algorithms.approximation.diameter(H)\n",
        "  print(f\"A excentricidade máxima é: {diametro_H}\")\n",
        "except Exception as err:\n",
        "  print(f\"Error: {err}\")"
      ],
      "metadata": {
        "colab": {
          "base_uri": "https://localhost:8080/"
        },
        "id": "UrpINxWUeP9v",
        "outputId": "20fde690-33dd-45b0-ad53-f259fa15b449"
      },
      "execution_count": null,
      "outputs": [
        {
          "output_type": "stream",
          "name": "stdout",
          "text": [
            "A excentricidade máxima é: 10\n"
          ]
        }
      ]
    },
    {
      "cell_type": "code",
      "source": [
        "try:\n",
        "  excentricidade_H = nx.eccentricity(H, v=[192,200])\n",
        "  print(f\"Maiores distâncias encontradas entre o nó 192 e 200: {excentricidade_H}\")\n",
        "except Exception as err:\n",
        "  print(f\"Error: {err}\")"
      ],
      "metadata": {
        "colab": {
          "base_uri": "https://localhost:8080/"
        },
        "id": "GhdderUOetpx",
        "outputId": "f9417335-7b01-4de1-8d82-c23181acc70a"
      },
      "execution_count": null,
      "outputs": [
        {
          "output_type": "stream",
          "name": "stdout",
          "text": [
            "Maiores distâncias encontradas entre o nó 192 e 200: {192: 5, 200: 6}\n"
          ]
        }
      ]
    },
    {
      "cell_type": "code",
      "source": [
        "try:\n",
        "  radius_H = nx.radius(H,excentricidade_H)\n",
        "  print(f\"A menor distância encontrada entre o nó 192 e 200: {radius_H}\")\n",
        "except Exception as err:\n",
        "  print(f\"Error: {err}\")"
      ],
      "metadata": {
        "colab": {
          "base_uri": "https://localhost:8080/"
        },
        "id": "ez3CyINagf4z",
        "outputId": "392a4b9f-312c-4663-99fa-2b6ce9ed40cd"
      },
      "execution_count": null,
      "outputs": [
        {
          "output_type": "stream",
          "name": "stdout",
          "text": [
            "A menor distância encontrada entre o nó 192 e 200: 5\n"
          ]
        }
      ]
    },
    {
      "cell_type": "markdown",
      "source": [
        "O interessante de analisar o diâmetro, a excentricidade e o raio do subgrafo dado os pares {v: 192, u: 200} é compreender que a maior distância encontrada na rede é 10, mas a maior distância encontrada entre v e u é 6, e que a menor distância calculada pelo raio entre v e u é 5. Ou seja, 10 é a distância máxima da rede dado um vértice v até um vértice periférico. Por que não seria a distância máxima do periférico até o centro ? Porque os vértices periféricos ficam mais próximo dos vértices centrais e mais distantes do vértices periféricos que provalvemente estarão na outro borda do grafo."
      ],
      "metadata": {
        "id": "fNJI8R8Ym8NK"
      }
    },
    {
      "cell_type": "markdown",
      "source": [
        "# Conclusão:\n",
        "\n",
        "Temos uma rede esparsa com baixa densidade, não conectada, heterogênea, com baixa tendência de agrupamento, com distribuição de graus em lei de potência não constante, com o cálculo das distâncias prejudicado pela falta de conectividade. Temos graus de entrada e saída distintos em sua maioria.\n",
        "\n",
        "\n",
        "**Nosso problema é: Como propagar informação por esta rede ?**\n",
        "\n",
        "*Possível solução:* Enviar a informação para nós com alto grau de saida, independentemente se os nós os quais estão conectados formarem apenas uma aresta, isso porque podemos espalhar a informação, mas não conseguiremos ou tentaremos com muito custo fazer uma informação chegar até outro usuário por meio de um caminho, precisamos então, focar na divulgação da informação pensando em sua relevância e simultaneidade, ou seja, enviar ao mesmo tempo  para os nós com maior grau de saída."
      ],
      "metadata": {
        "id": "2bVGYrN0X-di"
      }
    },
    {
      "cell_type": "code",
      "source": [],
      "metadata": {
        "id": "2YKbtDpgYAIQ"
      },
      "execution_count": null,
      "outputs": []
    }
  ],
  "metadata": {
    "kernelspec": {
      "display_name": "Python 3",
      "language": "python",
      "name": "python3"
    },
    "language_info": {
      "codemirror_mode": {
        "name": "ipython",
        "version": 3
      },
      "file_extension": ".py",
      "mimetype": "text/x-python",
      "name": "python",
      "nbconvert_exporter": "python",
      "pygments_lexer": "ipython3",
      "version": "3.13.1"
    },
    "colab": {
      "provenance": [],
      "include_colab_link": true
    }
  },
  "nbformat": 4,
  "nbformat_minor": 0
}